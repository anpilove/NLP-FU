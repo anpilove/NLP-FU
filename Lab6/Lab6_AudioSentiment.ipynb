{
  "cells": [
    {
      "cell_type": "code",
      "execution_count": null,
      "id": "4e35c1f7-0082-4f53-a3ca-8eab1e563bb5",
      "metadata": {
        "id": "4e35c1f7-0082-4f53-a3ca-8eab1e563bb5"
      },
      "outputs": [],
      "source": []
    },
    {
      "cell_type": "markdown",
      "source": [
        "# Лабораторная работа №6."
      ],
      "metadata": {
        "id": "0IvyV6_EdcFa"
      },
      "id": "0IvyV6_EdcFa"
    },
    {
      "cell_type": "markdown",
      "source": [
        "# Импорт биоблетек"
      ],
      "metadata": {
        "id": "m4Hw1xcOeRlB"
      },
      "id": "m4Hw1xcOeRlB"
    },
    {
      "cell_type": "code",
      "source": [
        "import pandas as pd\n",
        "import numpy as np\n",
        "import seaborn as sns\n",
        "import matplotlib.pyplot as plt\n",
        "\n",
        "import sys\n",
        "\n",
        "import librosa\n",
        "import librosa.display\n",
        "\n",
        "from sklearn.preprocessing import OneHotEncoder\n",
        "\n",
        "from IPython.display import Audio\n",
        "import noisereduce as nr\n",
        "\n",
        "import warnings\n",
        "if not sys.warnoptions:\n",
        "    warnings.simplefilter(\"ignore\")\n",
        "warnings.filterwarnings(\"ignore\", category=DeprecationWarning)"
      ],
      "metadata": {
        "id": "OMe8JqWHeavp",
        "outputId": "05181c2e-7d19-4bea-9335-521739e84024",
        "colab": {
          "base_uri": "https://localhost:8080/",
          "height": 393
        }
      },
      "id": "OMe8JqWHeavp",
      "execution_count": 1,
      "outputs": [
        {
          "output_type": "error",
          "ename": "ModuleNotFoundError",
          "evalue": "ignored",
          "traceback": [
            "\u001b[0;31m---------------------------------------------------------------------------\u001b[0m",
            "\u001b[0;31mModuleNotFoundError\u001b[0m                       Traceback (most recent call last)",
            "\u001b[0;32m<ipython-input-1-754d284a79f4>\u001b[0m in \u001b[0;36m<cell line: 14>\u001b[0;34m()\u001b[0m\n\u001b[1;32m     12\u001b[0m \u001b[0;34m\u001b[0m\u001b[0m\n\u001b[1;32m     13\u001b[0m \u001b[0;32mfrom\u001b[0m \u001b[0mIPython\u001b[0m\u001b[0;34m.\u001b[0m\u001b[0mdisplay\u001b[0m \u001b[0;32mimport\u001b[0m \u001b[0mAudio\u001b[0m\u001b[0;34m\u001b[0m\u001b[0;34m\u001b[0m\u001b[0m\n\u001b[0;32m---> 14\u001b[0;31m \u001b[0;32mimport\u001b[0m \u001b[0mnoisereduce\u001b[0m \u001b[0;32mas\u001b[0m \u001b[0mnr\u001b[0m\u001b[0;34m\u001b[0m\u001b[0;34m\u001b[0m\u001b[0m\n\u001b[0m\u001b[1;32m     15\u001b[0m \u001b[0;34m\u001b[0m\u001b[0m\n\u001b[1;32m     16\u001b[0m \u001b[0;32mimport\u001b[0m \u001b[0mwarnings\u001b[0m\u001b[0;34m\u001b[0m\u001b[0;34m\u001b[0m\u001b[0m\n",
            "\u001b[0;31mModuleNotFoundError\u001b[0m: No module named 'noisereduce'",
            "",
            "\u001b[0;31m---------------------------------------------------------------------------\u001b[0;32m\nNOTE: If your import is failing due to a missing package, you can\nmanually install dependencies using either !pip or !apt.\n\nTo view examples of installing some common dependencies, click the\n\"Open Examples\" button below.\n\u001b[0;31m---------------------------------------------------------------------------\u001b[0m\n"
          ],
          "errorDetails": {
            "actions": [
              {
                "action": "open_url",
                "actionText": "Open Examples",
                "url": "/notebooks/snippets/importing_libraries.ipynb"
              }
            ]
          }
        }
      ]
    },
    {
      "cell_type": "markdown",
      "source": [
        "## 1. Загрузить датасет Dusha и сделать EDA анализ. За основу взять файл Задание_1_EDA_Dusha_dataset.ipynb\n",
        "\n"
      ],
      "metadata": {
        "id": "8RWijZA6dPV4"
      },
      "id": "8RWijZA6dPV4"
    },
    {
      "cell_type": "markdown",
      "source": [
        "## 2. Решить задачу классификации классическими методами машинного обучения."
      ],
      "metadata": {
        "id": "-WilaBPKdyN5"
      },
      "id": "-WilaBPKdyN5"
    },
    {
      "cell_type": "markdown",
      "source": [
        "## 3. Решить задачу классификации, использовав различные архитектуры нейронных сетей, включая HuBERT. За основу взять файлы CNN-LSTM_SER_model.ipynb и Hubert-SER_model.ipynb\n"
      ],
      "metadata": {
        "id": "sWPUAnCzeALR"
      },
      "id": "sWPUAnCzeALR"
    },
    {
      "cell_type": "markdown",
      "source": [
        "## 4. Разработать систему онлайн записи аудиофайлов и ее транскрибации с использованием Whisper (https://github.com/openai/whisper/)"
      ],
      "metadata": {
        "id": "Mx5XybireCna"
      },
      "id": "Mx5XybireCna"
    },
    {
      "cell_type": "markdown",
      "source": [
        "\n",
        "## 5.\tПримените ruBERT для анализа тональности текста Сделать выводы по каждому из заданий!!! Примечание!!! Если не хватает вычислительных ресурсов для работы с датасетом Dusha, то можно использовать датасет, в котором объединены датасеты SAVEE и TESS)"
      ],
      "metadata": {
        "id": "0-8W6fOkeJEv"
      },
      "id": "0-8W6fOkeJEv"
    }
  ],
  "metadata": {
    "kernelspec": {
      "display_name": "Python 3 (ipykernel)",
      "language": "python",
      "name": "python3"
    },
    "language_info": {
      "codemirror_mode": {
        "name": "ipython",
        "version": 3
      },
      "file_extension": ".py",
      "mimetype": "text/x-python",
      "name": "python",
      "nbconvert_exporter": "python",
      "pygments_lexer": "ipython3",
      "version": "3.10.6"
    },
    "colab": {
      "provenance": []
    }
  },
  "nbformat": 4,
  "nbformat_minor": 5
}