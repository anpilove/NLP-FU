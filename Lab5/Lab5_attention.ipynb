{
  "cells": [
    {
      "cell_type": "markdown",
      "id": "e595d065-3dff-4cc7-b813-c188a96430bf",
      "metadata": {
        "id": "e595d065-3dff-4cc7-b813-c188a96430bf"
      },
      "source": [
        "# Лабораторная работа №5"
      ]
    },
    {
      "cell_type": "markdown",
      "source": [
        "## Импорт библеотек"
      ],
      "metadata": {
        "id": "kldPqaR28KAx"
      },
      "id": "kldPqaR28KAx"
    },
    {
      "cell_type": "code",
      "source": [
        "import re\n",
        "import nltk\n",
        "\n",
        "import torch\n",
        "from torch.utils.data import Dataset, DataLoader\n",
        "import torch.nn as nn\n",
        "import torch.nn.functional as F\n",
        "import torch.optim as optim\n",
        "from torchtext.vocab import build_vocab_from_iterator\n",
        "\n",
        "\n",
        "import pandas as pd\n",
        "import numpy as np\n",
        "\n",
        "from sklearn.model_selection import train_test_split\n",
        "from sklearn.metrics import accuracy_score\n",
        "from nltk.tokenize import word_tokenize\n",
        "from nltk.tokenize import sent_tokenize\n",
        "from sklearn.preprocessing import LabelEncoder\n",
        "nltk.download('punkt')\n",
        "nltk.download('stopwords')\n",
        "from nltk.corpus import stopwords\n",
        "\n",
        "\n",
        "from tqdm.auto import tqdm"
      ],
      "metadata": {
        "id": "TKhhOQXX8glH",
        "outputId": "0cf7025b-c8c0-43e5-8d6a-f5ba99f87d15",
        "colab": {
          "base_uri": "https://localhost:8080/"
        }
      },
      "id": "TKhhOQXX8glH",
      "execution_count": null,
      "outputs": [
        {
          "output_type": "stream",
          "name": "stderr",
          "text": [
            "[nltk_data] Downloading package punkt to /root/nltk_data...\n",
            "[nltk_data]   Unzipping tokenizers/punkt.zip.\n",
            "[nltk_data] Downloading package stopwords to /root/nltk_data...\n",
            "[nltk_data]   Unzipping corpora/stopwords.zip.\n"
          ]
        }
      ]
    },
    {
      "cell_type": "markdown",
      "source": [
        "## Функция Обучения"
      ],
      "metadata": {
        "id": "njxYk8mASYN-"
      },
      "id": "njxYk8mASYN-"
    },
    {
      "cell_type": "markdown",
      "id": "ac0fa033-5f6c-4d18-b46b-639b6882ab94",
      "metadata": {
        "id": "ac0fa033-5f6c-4d18-b46b-639b6882ab94"
      },
      "source": [
        "## Задание 1. Изучите технологии attention и архитектуры нейронных сетей трансформеров."
      ]
    },
    {
      "cell_type": "code",
      "execution_count": null,
      "id": "7fe9fb7e-9f20-4aaa-b0d5-9408c9b96256",
      "metadata": {
        "id": "7fe9fb7e-9f20-4aaa-b0d5-9408c9b96256"
      },
      "outputs": [],
      "source": []
    },
    {
      "cell_type": "markdown",
      "id": "cdccab32-cb47-40c0-a3e3-616e429cd2e1",
      "metadata": {
        "id": "cdccab32-cb47-40c0-a3e3-616e429cd2e1"
      },
      "source": [
        "## Задание 2. Примените один из трансформеров, например BERT к задаче классификации отзывов клиентов. Сравните полученные результаты с классическими методами машинного обучения, с RNN. Сделайте выводы."
      ]
    },
    {
      "cell_type": "markdown",
      "source": [
        "### DeepPavlov"
      ],
      "metadata": {
        "id": "orFpswLb7wy4"
      },
      "id": "orFpswLb7wy4"
    },
    {
      "cell_type": "code",
      "execution_count": null,
      "id": "d0e82687-4b80-4f6a-bc07-ba1b50dd16cb",
      "metadata": {
        "id": "d0e82687-4b80-4f6a-bc07-ba1b50dd16cb"
      },
      "outputs": [],
      "source": [
        "tokenizer = BertTokenizer.from_pretrained(\"DeepPavlov/rubert-base-cased-sentence\")\n",
        "model = BertForSequenceClassification.from_pretrained(\"DeepPavlov/rubert-base-cased-sentence\", num_labels=2)"
      ]
    },
    {
      "cell_type": "markdown",
      "source": [
        "### Tokenizer"
      ],
      "metadata": {
        "id": "g2liLXynSlE8"
      },
      "id": "g2liLXynSlE8"
    },
    {
      "cell_type": "code",
      "source": [
        "tokenized_inputs = []\n",
        "for text in tqdm(texts, desc=\"Tokenizing\"):\n",
        "    inputs = tokenizer(text, return_tensors=\"pt\", padding='max_length', truncation=True, max_length=128)\n",
        "    tokenized_inputs.append(inputs)"
      ],
      "metadata": {
        "id": "fJjud7iQSklW"
      },
      "id": "fJjud7iQSklW",
      "execution_count": null,
      "outputs": []
    },
    {
      "cell_type": "code",
      "source": [
        "with open(\"tokenized_inputs.pkl\", \"wb\") as f:\n",
        "    pickle.dump(tokenized_inputs, f)"
      ],
      "metadata": {
        "id": "uLz-DFAnTWq_"
      },
      "id": "uLz-DFAnTWq_",
      "execution_count": null,
      "outputs": []
    },
    {
      "cell_type": "markdown",
      "source": [
        "### Dataset"
      ],
      "metadata": {
        "id": "V_BzXNpISzG7"
      },
      "id": "V_BzXNpISzG7"
    },
    {
      "cell_type": "code",
      "source": [
        "class MyDataset(Dataset):\n",
        "\n",
        "    def __init__(self, dict_,  labels =False):\n",
        "        self.dict = dict_\n",
        "        self.labels = labels\n",
        "    def __getitem__(self, ids):\n",
        "\n",
        "        return {\n",
        "            'input_ids' : torch.tensor(self.dict['input_ids'][ids], dtype=torch.long),\n",
        "            'token_type_ids' : torch.tensor(self.dict['token_type_ids'][ids], dtype=torch.long),\n",
        "            'attention_mask' : torch.tensor(self.dict['attention_mask'][ids], dtype=torch.long),\n",
        "            'labels' : torch.tensor(self.dict['label'][ids], dtype=torch.long)\n",
        "        }\n",
        "\n",
        "    def __len__(self):\n",
        "        return len(self.dict['label'])"
      ],
      "metadata": {
        "id": "kW7F2lZ0S1KW"
      },
      "id": "kW7F2lZ0S1KW",
      "execution_count": null,
      "outputs": []
    },
    {
      "cell_type": "markdown",
      "id": "fd7f1ec0-2cb3-47a2-8bad-cc5aeda5288a",
      "metadata": {
        "id": "fd7f1ec0-2cb3-47a2-8bad-cc5aeda5288a"
      },
      "source": [
        "## Задание 3. Примените один из трансформеров, например BERT, к задаче генерации англоязычного и русскоязычного текстов. Сравните результаты с LSTM. Сделайте выводы."
      ]
    },
    {
      "cell_type": "code",
      "execution_count": null,
      "id": "4b8fe518-77ce-461f-8b9f-05d972830475",
      "metadata": {
        "id": "4b8fe518-77ce-461f-8b9f-05d972830475"
      },
      "outputs": [],
      "source": []
    },
    {
      "cell_type": "markdown",
      "id": "e333c44e-be51-4e7f-af9e-2c93894771ec",
      "metadata": {
        "id": "e333c44e-be51-4e7f-af9e-2c93894771ec"
      },
      "source": [
        "## Задание 4. Примените один из трансформеров, например BERT, к задаче машинного перевода."
      ]
    },
    {
      "cell_type": "code",
      "execution_count": null,
      "id": "b99f9148-c849-4337-bb3d-5d19f86ce14c",
      "metadata": {
        "id": "b99f9148-c849-4337-bb3d-5d19f86ce14c"
      },
      "outputs": [],
      "source": []
    }
  ],
  "metadata": {
    "kernelspec": {
      "display_name": "Python 3 (ipykernel)",
      "language": "python",
      "name": "python3"
    },
    "language_info": {
      "codemirror_mode": {
        "name": "ipython",
        "version": 3
      },
      "file_extension": ".py",
      "mimetype": "text/x-python",
      "name": "python",
      "nbconvert_exporter": "python",
      "pygments_lexer": "ipython3",
      "version": "3.10.6"
    },
    "colab": {
      "provenance": []
    }
  },
  "nbformat": 4,
  "nbformat_minor": 5
}