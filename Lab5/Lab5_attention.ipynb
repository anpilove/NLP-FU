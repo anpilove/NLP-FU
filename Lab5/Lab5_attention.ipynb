{
 "cells": [
  {
   "cell_type": "markdown",
   "id": "e595d065-3dff-4cc7-b813-c188a96430bf",
   "metadata": {},
   "source": [
    "# Лабораторная работа №5"
   ]
  },
  {
   "cell_type": "markdown",
   "id": "ac0fa033-5f6c-4d18-b46b-639b6882ab94",
   "metadata": {},
   "source": [
    "## Задание 1. Изучите технологии attention и архитектуры нейронных сетей трансформеров."
   ]
  },
  {
   "cell_type": "markdown",
   "id": "cdccab32-cb47-40c0-a3e3-616e429cd2e1",
   "metadata": {},
   "source": [
    "## Задание 2. Примените один из трансформеров, например BERT к задаче классификации отзывов клиентов. Сравните полученные результаты с классическими методами машинного обучения, с RNN. Сделайте выводы."
   ]
  },
  {
   "cell_type": "code",
   "execution_count": null,
   "id": "d0e82687-4b80-4f6a-bc07-ba1b50dd16cb",
   "metadata": {},
   "outputs": [],
   "source": []
  },
  {
   "cell_type": "markdown",
   "id": "fd7f1ec0-2cb3-47a2-8bad-cc5aeda5288a",
   "metadata": {},
   "source": [
    "## Задание 3. Примените один из трансформеров, например BERT, к задаче генерации англоязычного и русскоязычного текстов. Сравните результаты с LSTM. Сделайте выводы."
   ]
  },
  {
   "cell_type": "code",
   "execution_count": null,
   "id": "4b8fe518-77ce-461f-8b9f-05d972830475",
   "metadata": {},
   "outputs": [],
   "source": []
  },
  {
   "cell_type": "markdown",
   "id": "e333c44e-be51-4e7f-af9e-2c93894771ec",
   "metadata": {},
   "source": [
    "## Задание 4. Примените один из трансформеров, например BERT, к задаче машинного перевода."
   ]
  },
  {
   "cell_type": "code",
   "execution_count": null,
   "id": "b99f9148-c849-4337-bb3d-5d19f86ce14c",
   "metadata": {},
   "outputs": [],
   "source": []
  }
 ],
 "metadata": {
  "kernelspec": {
   "display_name": "Python 3 (ipykernel)",
   "language": "python",
   "name": "python3"
  },
  "language_info": {
   "codemirror_mode": {
    "name": "ipython",
    "version": 3
   },
   "file_extension": ".py",
   "mimetype": "text/x-python",
   "name": "python",
   "nbconvert_exporter": "python",
   "pygments_lexer": "ipython3",
   "version": "3.10.6"
  }
 },
 "nbformat": 4,
 "nbformat_minor": 5
}
