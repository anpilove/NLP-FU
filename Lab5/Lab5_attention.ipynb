{
  "cells": [
    {
      "cell_type": "markdown",
      "id": "e595d065-3dff-4cc7-b813-c188a96430bf",
      "metadata": {
        "id": "e595d065-3dff-4cc7-b813-c188a96430bf"
      },
      "source": [
        "# Лабораторная работа №5"
      ]
    },
    {
      "cell_type": "markdown",
      "source": [
        "## Импорт библеотек"
      ],
      "metadata": {
        "id": "kldPqaR28KAx"
      },
      "id": "kldPqaR28KAx"
    },
    {
      "cell_type": "code",
      "source": [
        "import re\n",
        "import nltk\n",
        "\n",
        "import torch\n",
        "from torch.utils.data import Dataset, DataLoader\n",
        "import torch.nn as nn\n",
        "import torch.nn.functional as F\n",
        "import torch.optim as optim\n",
        "from torchtext.vocab import build_vocab_from_iterator\n",
        "from transformers import BertTokenizer, BertForSequenceClassification, AdamW\n",
        "\n",
        "\n",
        "import pandas as pd\n",
        "import numpy as np\n",
        "\n",
        "from sklearn.model_selection import train_test_split\n",
        "from sklearn.metrics import accuracy_score\n",
        "from nltk.tokenize import word_tokenize\n",
        "from nltk.tokenize import sent_tokenize\n",
        "from sklearn.preprocessing import LabelEncoder\n",
        "nltk.download('punkt')\n",
        "nltk.download('stopwords')\n",
        "from nltk.corpus import stopwords\n",
        "\n",
        "\n",
        "from tqdm.auto import tqdm"
      ],
      "metadata": {
        "id": "TKhhOQXX8glH",
        "outputId": "bc03b5a9-0b33-4e9a-cc1f-d7cd8629cdcd",
        "colab": {
          "base_uri": "https://localhost:8080/"
        }
      },
      "id": "TKhhOQXX8glH",
      "execution_count": 8,
      "outputs": [
        {
          "output_type": "stream",
          "name": "stderr",
          "text": [
            "[nltk_data] Downloading package punkt to /root/nltk_data...\n",
            "[nltk_data]   Package punkt is already up-to-date!\n",
            "[nltk_data] Downloading package stopwords to /root/nltk_data...\n",
            "[nltk_data]   Package stopwords is already up-to-date!\n"
          ]
        }
      ]
    },
    {
      "cell_type": "markdown",
      "source": [
        "## Функция Обучения"
      ],
      "metadata": {
        "id": "njxYk8mASYN-"
      },
      "id": "njxYk8mASYN-"
    },
    {
      "cell_type": "code",
      "source": [
        "def train(model, optimizer, criterion, n_epochs, train_loader, test_loader):\n",
        "\n",
        "  loss_train = []\n",
        "  accuracy_train = []\n",
        "\n",
        "  for epoch in range(n_epochs):\n",
        "    model.train()\n",
        "    for batch in tqdm(train_loader, desc=f\"Training epoch {epoch + 1}/{n_epochs}\"):\n",
        "        inputs = batch[\"input\"]\n",
        "        labels = batch[\"label\"]\n",
        "        output = model(inputs)\n",
        "\n",
        "        loss = criterion(output, labels)\n",
        "\n",
        "        optimizer.zero_grad()\n",
        "        loss.backward()\n",
        "        optimizer.step()\n",
        "\n",
        "    model.eval()\n",
        "\n",
        "    correct = 0\n",
        "    total = 0\n",
        "\n",
        "    with torch.no_grad():\n",
        "      for batch in tqdm(test_loader, desc=f\"Testing epoch {epoch + 1}/{n_epochs}\"):\n",
        "        inputs = batch[\"input\"]\n",
        "        labels = batch[\"label\"]\n",
        "        output = model(inputs)\n",
        "        _, predicted = torch.max(output.data, 1)\n",
        "        total += labels.size(0)\n",
        "        correct += (predicted == labels).sum().item()\n",
        "\n",
        "    test_accuracy = correct / total\n",
        "    accuracy_train.append(test_accuracy)\n",
        "    print('Epoch [{}/{}], Loss: {:.4f}, Test Accuracy: {:.2f}%'.format(epoch + 1, n_epochs, loss.item(), test_accuracy * 100))\n",
        "    loss_train.append(loss.item())\n"
      ],
      "metadata": {
        "id": "qVMiYaASEY5E"
      },
      "id": "qVMiYaASEY5E",
      "execution_count": 2,
      "outputs": []
    },
    {
      "cell_type": "markdown",
      "id": "ac0fa033-5f6c-4d18-b46b-639b6882ab94",
      "metadata": {
        "id": "ac0fa033-5f6c-4d18-b46b-639b6882ab94"
      },
      "source": [
        "## Задание 1. Изучите технологии attention и архитектуры нейронных сетей трансформеров."
      ]
    },
    {
      "cell_type": "code",
      "execution_count": null,
      "id": "7fe9fb7e-9f20-4aaa-b0d5-9408c9b96256",
      "metadata": {
        "id": "7fe9fb7e-9f20-4aaa-b0d5-9408c9b96256"
      },
      "outputs": [],
      "source": []
    },
    {
      "cell_type": "markdown",
      "id": "cdccab32-cb47-40c0-a3e3-616e429cd2e1",
      "metadata": {
        "id": "cdccab32-cb47-40c0-a3e3-616e429cd2e1"
      },
      "source": [
        "## Задание 2. Примените один из трансформеров, например BERT к задаче классификации отзывов клиентов. Сравните полученные результаты с классическими методами машинного обучения, с RNN. Сделайте выводы."
      ]
    },
    {
      "cell_type": "markdown",
      "source": [
        "### DeepPavlov"
      ],
      "metadata": {
        "id": "orFpswLb7wy4"
      },
      "id": "orFpswLb7wy4"
    },
    {
      "cell_type": "code",
      "execution_count": 7,
      "id": "d0e82687-4b80-4f6a-bc07-ba1b50dd16cb",
      "metadata": {
        "id": "d0e82687-4b80-4f6a-bc07-ba1b50dd16cb",
        "colab": {
          "base_uri": "https://localhost:8080/",
          "height": 105,
          "referenced_widgets": [
            "ac2b2c016c9b4cb99339f3d8225452fd",
            "c33999e1641645f4b104abb71b615db3",
            "f976857d0aac43319a883165813299ce",
            "9773e47c71704ddbb3cbe85b6c6896d5",
            "69f82602ee0940bd869267e326bb6d17",
            "e33f72eb401e40c39a60886e82eb7789",
            "76cc459ea6a24e6ab01f9ac8bf75acd7",
            "57c5755314974c6bb4ac7d93bc44daa5",
            "7ba922f356734bb7aa54260cba5c24c9",
            "a56e8523b35e4a0badb6aec4b3ef96cd",
            "1bec9f81e228400ba747e15edee94c8d"
          ]
        },
        "outputId": "7799ed4c-e249-41a5-e6ad-80f5c3eff8d2"
      },
      "outputs": [
        {
          "output_type": "display_data",
          "data": {
            "text/plain": [
              "pytorch_model.bin:   0%|          | 0.00/711M [00:00<?, ?B/s]"
            ],
            "application/vnd.jupyter.widget-view+json": {
              "version_major": 2,
              "version_minor": 0,
              "model_id": "ac2b2c016c9b4cb99339f3d8225452fd"
            }
          },
          "metadata": {}
        },
        {
          "output_type": "stream",
          "name": "stderr",
          "text": [
            "Some weights of BertForSequenceClassification were not initialized from the model checkpoint at DeepPavlov/rubert-base-cased-sentence and are newly initialized: ['classifier.weight', 'classifier.bias']\n",
            "You should probably TRAIN this model on a down-stream task to be able to use it for predictions and inference.\n"
          ]
        }
      ],
      "source": [
        "tokenizer = BertTokenizer.from_pretrained(\"DeepPavlov/rubert-base-cased-sentence\")\n",
        "model = BertForSequenceClassification.from_pretrained(\"DeepPavlov/rubert-base-cased-sentence\", num_labels=5)"
      ]
    },
    {
      "cell_type": "markdown",
      "source": [
        "### Tokenizer"
      ],
      "metadata": {
        "id": "g2liLXynSlE8"
      },
      "id": "g2liLXynSlE8"
    },
    {
      "cell_type": "code",
      "source": [
        "tokenized_inputs = []\n",
        "for text in tqdm(texts, desc=\"Tokenizing\"):\n",
        "    inputs = tokenizer(text, return_tensors=\"pt\", padding='max_length', truncation=True, max_length=128)\n",
        "    tokenized_inputs.append(inputs)"
      ],
      "metadata": {
        "id": "fJjud7iQSklW"
      },
      "id": "fJjud7iQSklW",
      "execution_count": null,
      "outputs": []
    },
    {
      "cell_type": "code",
      "source": [
        "with open(\"tokenized_inputs.pkl\", \"wb\") as f:\n",
        "    pickle.dump(tokenized_inputs, f)"
      ],
      "metadata": {
        "id": "uLz-DFAnTWq_"
      },
      "id": "uLz-DFAnTWq_",
      "execution_count": null,
      "outputs": []
    },
    {
      "cell_type": "markdown",
      "source": [
        "### Dataset"
      ],
      "metadata": {
        "id": "V_BzXNpISzG7"
      },
      "id": "V_BzXNpISzG7"
    },
    {
      "cell_type": "code",
      "source": [
        "class MyDataset(Dataset):\n",
        "\n",
        "    def __init__(self, dict_,  labels =False):\n",
        "        self.dict = dict_\n",
        "        self.labels = labels\n",
        "    def __getitem__(self, ids):\n",
        "\n",
        "        return {\n",
        "            'input_ids' : torch.tensor(self.dict['input_ids'][ids], dtype=torch.long),\n",
        "            'token_type_ids' : torch.tensor(self.dict['token_type_ids'][ids], dtype=torch.long),\n",
        "            'attention_mask' : torch.tensor(self.dict['attention_mask'][ids], dtype=torch.long),\n",
        "            'labels' : torch.tensor(self.dict['label'][ids], dtype=torch.long)\n",
        "        }\n",
        "\n",
        "    def __len__(self):\n",
        "        return len(self.dict['label'])"
      ],
      "metadata": {
        "id": "kW7F2lZ0S1KW"
      },
      "id": "kW7F2lZ0S1KW",
      "execution_count": null,
      "outputs": []
    },
    {
      "cell_type": "markdown",
      "id": "fd7f1ec0-2cb3-47a2-8bad-cc5aeda5288a",
      "metadata": {
        "id": "fd7f1ec0-2cb3-47a2-8bad-cc5aeda5288a"
      },
      "source": [
        "## Задание 3. Примените один из трансформеров, например BERT, к задаче генерации англоязычного и русскоязычного текстов. Сравните результаты с LSTM. Сделайте выводы."
      ]
    },
    {
      "cell_type": "code",
      "execution_count": null,
      "id": "4b8fe518-77ce-461f-8b9f-05d972830475",
      "metadata": {
        "id": "4b8fe518-77ce-461f-8b9f-05d972830475"
      },
      "outputs": [],
      "source": []
    },
    {
      "cell_type": "markdown",
      "id": "e333c44e-be51-4e7f-af9e-2c93894771ec",
      "metadata": {
        "id": "e333c44e-be51-4e7f-af9e-2c93894771ec"
      },
      "source": [
        "## Задание 4. Примените один из трансформеров, например BERT, к задаче машинного перевода."
      ]
    },
    {
      "cell_type": "code",
      "execution_count": null,
      "id": "b99f9148-c849-4337-bb3d-5d19f86ce14c",
      "metadata": {
        "id": "b99f9148-c849-4337-bb3d-5d19f86ce14c"
      },
      "outputs": [],
      "source": []
    }
  ],
  "metadata": {
    "kernelspec": {
      "display_name": "Python 3 (ipykernel)",
      "language": "python",
      "name": "python3"
    },
    "language_info": {
      "codemirror_mode": {
        "name": "ipython",
        "version": 3
      },
      "file_extension": ".py",
      "mimetype": "text/x-python",
      "name": "python",
      "nbconvert_exporter": "python",
      "pygments_lexer": "ipython3",
      "version": "3.10.6"
    },
    "colab": {
      "provenance": []
    },
    "widgets": {
      "application/vnd.jupyter.widget-state+json": {
        "ac2b2c016c9b4cb99339f3d8225452fd": {
          "model_module": "@jupyter-widgets/controls",
          "model_name": "HBoxModel",
          "model_module_version": "1.5.0",
          "state": {
            "_dom_classes": [],
            "_model_module": "@jupyter-widgets/controls",
            "_model_module_version": "1.5.0",
            "_model_name": "HBoxModel",
            "_view_count": null,
            "_view_module": "@jupyter-widgets/controls",
            "_view_module_version": "1.5.0",
            "_view_name": "HBoxView",
            "box_style": "",
            "children": [
              "IPY_MODEL_c33999e1641645f4b104abb71b615db3",
              "IPY_MODEL_f976857d0aac43319a883165813299ce",
              "IPY_MODEL_9773e47c71704ddbb3cbe85b6c6896d5"
            ],
            "layout": "IPY_MODEL_69f82602ee0940bd869267e326bb6d17"
          }
        },
        "c33999e1641645f4b104abb71b615db3": {
          "model_module": "@jupyter-widgets/controls",
          "model_name": "HTMLModel",
          "model_module_version": "1.5.0",
          "state": {
            "_dom_classes": [],
            "_model_module": "@jupyter-widgets/controls",
            "_model_module_version": "1.5.0",
            "_model_name": "HTMLModel",
            "_view_count": null,
            "_view_module": "@jupyter-widgets/controls",
            "_view_module_version": "1.5.0",
            "_view_name": "HTMLView",
            "description": "",
            "description_tooltip": null,
            "layout": "IPY_MODEL_e33f72eb401e40c39a60886e82eb7789",
            "placeholder": "​",
            "style": "IPY_MODEL_76cc459ea6a24e6ab01f9ac8bf75acd7",
            "value": "pytorch_model.bin: 100%"
          }
        },
        "f976857d0aac43319a883165813299ce": {
          "model_module": "@jupyter-widgets/controls",
          "model_name": "FloatProgressModel",
          "model_module_version": "1.5.0",
          "state": {
            "_dom_classes": [],
            "_model_module": "@jupyter-widgets/controls",
            "_model_module_version": "1.5.0",
            "_model_name": "FloatProgressModel",
            "_view_count": null,
            "_view_module": "@jupyter-widgets/controls",
            "_view_module_version": "1.5.0",
            "_view_name": "ProgressView",
            "bar_style": "success",
            "description": "",
            "description_tooltip": null,
            "layout": "IPY_MODEL_57c5755314974c6bb4ac7d93bc44daa5",
            "max": 711456784,
            "min": 0,
            "orientation": "horizontal",
            "style": "IPY_MODEL_7ba922f356734bb7aa54260cba5c24c9",
            "value": 711456784
          }
        },
        "9773e47c71704ddbb3cbe85b6c6896d5": {
          "model_module": "@jupyter-widgets/controls",
          "model_name": "HTMLModel",
          "model_module_version": "1.5.0",
          "state": {
            "_dom_classes": [],
            "_model_module": "@jupyter-widgets/controls",
            "_model_module_version": "1.5.0",
            "_model_name": "HTMLModel",
            "_view_count": null,
            "_view_module": "@jupyter-widgets/controls",
            "_view_module_version": "1.5.0",
            "_view_name": "HTMLView",
            "description": "",
            "description_tooltip": null,
            "layout": "IPY_MODEL_a56e8523b35e4a0badb6aec4b3ef96cd",
            "placeholder": "​",
            "style": "IPY_MODEL_1bec9f81e228400ba747e15edee94c8d",
            "value": " 711M/711M [00:22&lt;00:00, 29.3MB/s]"
          }
        },
        "69f82602ee0940bd869267e326bb6d17": {
          "model_module": "@jupyter-widgets/base",
          "model_name": "LayoutModel",
          "model_module_version": "1.2.0",
          "state": {
            "_model_module": "@jupyter-widgets/base",
            "_model_module_version": "1.2.0",
            "_model_name": "LayoutModel",
            "_view_count": null,
            "_view_module": "@jupyter-widgets/base",
            "_view_module_version": "1.2.0",
            "_view_name": "LayoutView",
            "align_content": null,
            "align_items": null,
            "align_self": null,
            "border": null,
            "bottom": null,
            "display": null,
            "flex": null,
            "flex_flow": null,
            "grid_area": null,
            "grid_auto_columns": null,
            "grid_auto_flow": null,
            "grid_auto_rows": null,
            "grid_column": null,
            "grid_gap": null,
            "grid_row": null,
            "grid_template_areas": null,
            "grid_template_columns": null,
            "grid_template_rows": null,
            "height": null,
            "justify_content": null,
            "justify_items": null,
            "left": null,
            "margin": null,
            "max_height": null,
            "max_width": null,
            "min_height": null,
            "min_width": null,
            "object_fit": null,
            "object_position": null,
            "order": null,
            "overflow": null,
            "overflow_x": null,
            "overflow_y": null,
            "padding": null,
            "right": null,
            "top": null,
            "visibility": null,
            "width": null
          }
        },
        "e33f72eb401e40c39a60886e82eb7789": {
          "model_module": "@jupyter-widgets/base",
          "model_name": "LayoutModel",
          "model_module_version": "1.2.0",
          "state": {
            "_model_module": "@jupyter-widgets/base",
            "_model_module_version": "1.2.0",
            "_model_name": "LayoutModel",
            "_view_count": null,
            "_view_module": "@jupyter-widgets/base",
            "_view_module_version": "1.2.0",
            "_view_name": "LayoutView",
            "align_content": null,
            "align_items": null,
            "align_self": null,
            "border": null,
            "bottom": null,
            "display": null,
            "flex": null,
            "flex_flow": null,
            "grid_area": null,
            "grid_auto_columns": null,
            "grid_auto_flow": null,
            "grid_auto_rows": null,
            "grid_column": null,
            "grid_gap": null,
            "grid_row": null,
            "grid_template_areas": null,
            "grid_template_columns": null,
            "grid_template_rows": null,
            "height": null,
            "justify_content": null,
            "justify_items": null,
            "left": null,
            "margin": null,
            "max_height": null,
            "max_width": null,
            "min_height": null,
            "min_width": null,
            "object_fit": null,
            "object_position": null,
            "order": null,
            "overflow": null,
            "overflow_x": null,
            "overflow_y": null,
            "padding": null,
            "right": null,
            "top": null,
            "visibility": null,
            "width": null
          }
        },
        "76cc459ea6a24e6ab01f9ac8bf75acd7": {
          "model_module": "@jupyter-widgets/controls",
          "model_name": "DescriptionStyleModel",
          "model_module_version": "1.5.0",
          "state": {
            "_model_module": "@jupyter-widgets/controls",
            "_model_module_version": "1.5.0",
            "_model_name": "DescriptionStyleModel",
            "_view_count": null,
            "_view_module": "@jupyter-widgets/base",
            "_view_module_version": "1.2.0",
            "_view_name": "StyleView",
            "description_width": ""
          }
        },
        "57c5755314974c6bb4ac7d93bc44daa5": {
          "model_module": "@jupyter-widgets/base",
          "model_name": "LayoutModel",
          "model_module_version": "1.2.0",
          "state": {
            "_model_module": "@jupyter-widgets/base",
            "_model_module_version": "1.2.0",
            "_model_name": "LayoutModel",
            "_view_count": null,
            "_view_module": "@jupyter-widgets/base",
            "_view_module_version": "1.2.0",
            "_view_name": "LayoutView",
            "align_content": null,
            "align_items": null,
            "align_self": null,
            "border": null,
            "bottom": null,
            "display": null,
            "flex": null,
            "flex_flow": null,
            "grid_area": null,
            "grid_auto_columns": null,
            "grid_auto_flow": null,
            "grid_auto_rows": null,
            "grid_column": null,
            "grid_gap": null,
            "grid_row": null,
            "grid_template_areas": null,
            "grid_template_columns": null,
            "grid_template_rows": null,
            "height": null,
            "justify_content": null,
            "justify_items": null,
            "left": null,
            "margin": null,
            "max_height": null,
            "max_width": null,
            "min_height": null,
            "min_width": null,
            "object_fit": null,
            "object_position": null,
            "order": null,
            "overflow": null,
            "overflow_x": null,
            "overflow_y": null,
            "padding": null,
            "right": null,
            "top": null,
            "visibility": null,
            "width": null
          }
        },
        "7ba922f356734bb7aa54260cba5c24c9": {
          "model_module": "@jupyter-widgets/controls",
          "model_name": "ProgressStyleModel",
          "model_module_version": "1.5.0",
          "state": {
            "_model_module": "@jupyter-widgets/controls",
            "_model_module_version": "1.5.0",
            "_model_name": "ProgressStyleModel",
            "_view_count": null,
            "_view_module": "@jupyter-widgets/base",
            "_view_module_version": "1.2.0",
            "_view_name": "StyleView",
            "bar_color": null,
            "description_width": ""
          }
        },
        "a56e8523b35e4a0badb6aec4b3ef96cd": {
          "model_module": "@jupyter-widgets/base",
          "model_name": "LayoutModel",
          "model_module_version": "1.2.0",
          "state": {
            "_model_module": "@jupyter-widgets/base",
            "_model_module_version": "1.2.0",
            "_model_name": "LayoutModel",
            "_view_count": null,
            "_view_module": "@jupyter-widgets/base",
            "_view_module_version": "1.2.0",
            "_view_name": "LayoutView",
            "align_content": null,
            "align_items": null,
            "align_self": null,
            "border": null,
            "bottom": null,
            "display": null,
            "flex": null,
            "flex_flow": null,
            "grid_area": null,
            "grid_auto_columns": null,
            "grid_auto_flow": null,
            "grid_auto_rows": null,
            "grid_column": null,
            "grid_gap": null,
            "grid_row": null,
            "grid_template_areas": null,
            "grid_template_columns": null,
            "grid_template_rows": null,
            "height": null,
            "justify_content": null,
            "justify_items": null,
            "left": null,
            "margin": null,
            "max_height": null,
            "max_width": null,
            "min_height": null,
            "min_width": null,
            "object_fit": null,
            "object_position": null,
            "order": null,
            "overflow": null,
            "overflow_x": null,
            "overflow_y": null,
            "padding": null,
            "right": null,
            "top": null,
            "visibility": null,
            "width": null
          }
        },
        "1bec9f81e228400ba747e15edee94c8d": {
          "model_module": "@jupyter-widgets/controls",
          "model_name": "DescriptionStyleModel",
          "model_module_version": "1.5.0",
          "state": {
            "_model_module": "@jupyter-widgets/controls",
            "_model_module_version": "1.5.0",
            "_model_name": "DescriptionStyleModel",
            "_view_count": null,
            "_view_module": "@jupyter-widgets/base",
            "_view_module_version": "1.2.0",
            "_view_name": "StyleView",
            "description_width": ""
          }
        }
      }
    }
  },
  "nbformat": 4,
  "nbformat_minor": 5
}